{
 "cells": [
  {
   "cell_type": "markdown",
   "metadata": {},
   "source": [
    "## The 🤗 Datasets library\n",
    "### Introduction\n",
    "In Chapter 3 you got your first taste of the 🤗 Datasets library and saw that there were three main steps when it came to fine-tuning a model:\n",
    "\n",
    "- Load a dataset from the Hugging Face Hub.\n",
    "- Preprocess the data with Dataset.map().\n",
    "- Load and compute metrics.\n",
    "\n",
    "But this is just scratching the surface of what 🤗 Datasets can do! In this chapter, we will take a deep dive into the library. Along the way, we’ll find answers to the following questions:\n",
    "- What do you do when your dataset is not on the Hub?\n",
    "- How can you slice and dice a dataset? (And what if you really need to use Pandas?)\n",
    "- What do you do when your dataset is huge and will melt your laptop’s RAM?\n",
    "- What the heck are “memory mapping” and Apache Arrow?\n",
    "- How can you create your own dataset and push it to the Hub?\n",
    "\n",
    "The techniques you learn here will prepare you for the advanced tokenization and fine-tuning tasks in Chapter 6 and Chapter 7 — so grab a coffee and let’s get started!"
   ]
  }
 ],
 "metadata": {
  "interpreter": {
   "hash": "483abfc7fdcd927bfa336910f494643cce94b3dfa36bcded073270b8df64edb3"
  },
  "kernelspec": {
   "display_name": "Python 3.9.6 64-bit",
   "language": "python",
   "name": "python3"
  },
  "language_info": {
   "name": "python",
   "version": "3.9.6"
  },
  "orig_nbformat": 4
 },
 "nbformat": 4,
 "nbformat_minor": 2
}
