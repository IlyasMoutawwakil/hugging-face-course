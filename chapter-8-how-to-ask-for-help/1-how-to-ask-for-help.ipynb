{
 "cells": [
  {
   "cell_type": "markdown",
   "metadata": {},
   "source": [
    "### Introduction\n",
    "Now that you know how to tackle the most common NLP tasks with 🤗 Transformers, you should be able to get started on your own projects! In this chapter we will explore what to do when you hit a problem. You’ll learn how to successfully debug your code or your training, and how to ask the community for help if you don’t manage to solve the problem by yourself. And if you think you’ve found a bug in one of the Hugging Face libraries, we’ll show you the best way to report it so that the issue is resolved as quickly as possible.\n",
    "\n",
    "More precisely, in this chapter you will learn:\n",
    "- The first thing to do when you get an error\n",
    "- How to ask for help on the forums\n",
    "- How to debug your training pipeline\n",
    "- How to write a good issue\n",
    "\n",
    "None of this is specifically related to 🤗 Transformers or the Hugging Face ecosystem, of course; the lessons from this chapter are applicable to most open source projects!"
   ]
  }
 ],
 "metadata": {
  "interpreter": {
   "hash": "483abfc7fdcd927bfa336910f494643cce94b3dfa36bcded073270b8df64edb3"
  },
  "kernelspec": {
   "display_name": "Python 3.9.6 64-bit",
   "language": "python",
   "name": "python3"
  },
  "language_info": {
   "name": "python",
   "version": "3.9.6"
  },
  "orig_nbformat": 4
 },
 "nbformat": 4,
 "nbformat_minor": 2
}
