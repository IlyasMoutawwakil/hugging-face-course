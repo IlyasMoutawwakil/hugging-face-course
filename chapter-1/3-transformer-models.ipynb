{
  "cells": [
    {
      "cell_type": "markdown",
      "metadata": {
        "id": "view-in-github",
        "colab_type": "text"
      },
      "source": [
        "<a href=\"https://colab.research.google.com/github/IlyasMoutawwakil/huggingface-course/blob/main/chapter-1-transformer-models.ipynb\" target=\"_parent\"><img src=\"https://colab.research.google.com/assets/colab-badge.svg\" alt=\"Open In Colab\"/></a>"
      ]
    },
    {
      "cell_type": "markdown",
      "source": [
        "# Transformer Models"
      ],
      "metadata": {
        "id": "ZRWFc8j7uSuL"
      },
      "id": "ZRWFc8j7uSuL"
    },
    {
      "cell_type": "markdown",
      "id": "bfbaf2fc",
      "metadata": {
        "id": "bfbaf2fc"
      },
      "source": [
        "### Encoder Models\n",
        "Encoder models use only the encoder of a Transformer model. **At each stage, the attention layers can access all the words in the initial sentence.** These models are often characterized as having **“bi-directional” attention**, and are often called **auto-encoding models.**\n",
        "\n",
        "The pretraining of these models usually revolves around somehow **corrupting a given sentence (for instance, by masking random words in it) and tasking the model with finding or reconstructing the initial sentence.**\n",
        "\n",
        "Encoder models are best suited for tasks **requiring an understanding of the full sentence**, such as **sentence classification, named entity recognition** (and more generally word classification), and **extractive question answering**.\n",
        "\n",
        "Representatives of this family of models include:\n",
        "- [ALBERT](https://huggingface.co/docs/transformers/model_doc/albert)\n",
        "- [BERT](https://huggingface.co/docs/transformers/model_doc/bert)\n",
        "- [DistilBERT](https://huggingface.co/transformers/model_doc/distilbert.html)\n",
        "- [ELECTRA](https://huggingface.co/docs/transformers/model_doc/electra)\n",
        "- [RoBERTa](https://huggingface.co/docs/transformers/model_doc/roberta)"
      ]
    },
    {
      "cell_type": "markdown",
      "id": "f2c7a8ff",
      "metadata": {
        "id": "f2c7a8ff"
      },
      "source": [
        "### Decoder Models\n",
        "Decoder models use only the decoder of a Transformer model. **At each stage, for a given word the attention layers can only access the words positioned before it in the sentence.** These models are often called **auto-regressive models.**\n",
        "\n",
        "The pretraining of decoder models usually revolves around **predicting the next word in the sentence.**\n",
        "\n",
        "These models are best suited for tasks involving **text generation.**\n",
        "\n",
        "Representatives of this family of models include:\n",
        "- [CTRL](https://huggingface.co/docs/transformers/model_doc/ctrl)\n",
        "- [GPT](https://huggingface.co/docs/transformers/model_doc/gpt)\n",
        "- [GPT-2](https://huggingface.co/docs/transformers/model_doc/gpt2)\n",
        "- [Transformer XL](https://huggingface.co/docs/transformers/model_doc/transformerxl)"
      ]
    },
    {
      "cell_type": "markdown",
      "id": "80236252",
      "metadata": {
        "id": "80236252"
      },
      "source": [
        "### Encoder-Decoder (sequence-to-sequence) Models\n",
        "Encoder-decoder models (also called sequence-to-sequence models) use both parts of the Transformer architecture. At each stage, the attention layers of the encoder can access all the words in the initial sentence, whereas the attention layers of the decoder can only access the words positioned before a given word in the input.\n",
        "\n",
        "The pretraining of these models can be done using the objectives of encoder or decoder models, but usually involves something a bit more complex. For instance, [T5](https://huggingface.co/t5-base) is pretrained by replacing random spans of text (that can contain several words) with a single mask special word, and the objective is then to predict the text that this mask word replaces.\n",
        "\n",
        "Sequence-to-sequence models are best suited for tasks revolving around **generating new sentences depending on a given input**, such as **summarization**, **translation**, or **generative question answering.**\n",
        "\n",
        "Representatives of this family of models include:\n",
        "- [BART](https://huggingface.co/docs/transformers/model_doc/bart)\n",
        "- [mBART](https://huggingface.co/docs/transformers/model_doc/mbart)\n",
        "- [Marian](https://huggingface.co/docs/transformers/model_doc/marian)\n",
        "- [T5](https://huggingface.co/docs/transformers/model_doc/t5)"
      ]
    }
  ],
  "metadata": {
    "kernelspec": {
      "display_name": "Python 3 (ipykernel)",
      "language": "python",
      "name": "python3"
    },
    "language_info": {
      "codemirror_mode": {
        "name": "ipython",
        "version": 3
      },
      "file_extension": ".py",
      "mimetype": "text/x-python",
      "name": "python",
      "nbconvert_exporter": "python",
      "pygments_lexer": "ipython3",
      "version": "3.9.7"
    },
    "colab": {
      "name": "Transformer Models.ipynb",
      "provenance": [],
      "toc_visible": true,
      "include_colab_link": true
    }
  },
  "nbformat": 4,
  "nbformat_minor": 5
}