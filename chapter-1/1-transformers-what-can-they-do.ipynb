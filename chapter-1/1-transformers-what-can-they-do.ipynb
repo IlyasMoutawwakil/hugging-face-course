{
  "cells": [
    {
      "cell_type": "markdown",
      "metadata": {
        "id": "view-in-github",
        "colab_type": "text"
      },
      "source": [
        "<a href=\"https://colab.research.google.com/github/IlyasMoutawwakil/huggingface-course/blob/main/chapter-1-transformers-what-can-they-do.ipynb\" target=\"_parent\"><img src=\"https://colab.research.google.com/assets/colab-badge.svg\" alt=\"Open In Colab\"/></a>"
      ]
    },
    {
      "cell_type": "markdown",
      "id": "824611ff",
      "metadata": {
        "id": "824611ff"
      },
      "source": [
        "## Transformers, what can they do?\n",
        "\n",
        "Install the Transformers and Datasets libraries to run this notebook."
      ]
    },
    {
      "cell_type": "code",
      "execution_count": 19,
      "id": "7f349df2",
      "metadata": {
        "id": "7f349df2"
      },
      "outputs": [],
      "source": [
        "%%capture\n",
        "!pip install datasets transformers[sentencepiece]"
      ]
    },
    {
      "cell_type": "markdown",
      "id": "bfdae35d",
      "metadata": {
        "id": "bfdae35d"
      },
      "source": [
        "The most basic object in the 🤗 Transformers library is the pipeline() function. It connects a model with its necessary preprocessing and postprocessing steps, allowing us to directly input any text and get an intelligible answer:"
      ]
    },
    {
      "cell_type": "code",
      "execution_count": 20,
      "id": "04207981",
      "metadata": {
        "id": "04207981"
      },
      "outputs": [],
      "source": [
        "from transformers import pipeline"
      ]
    },
    {
      "cell_type": "code",
      "execution_count": 21,
      "id": "178a84d1",
      "metadata": {
        "colab": {
          "base_uri": "https://localhost:8080/"
        },
        "id": "178a84d1",
        "outputId": "ee1e6211-1615-4da8-f588-2d660b5ca6b4"
      },
      "outputs": [
        {
          "output_type": "stream",
          "name": "stderr",
          "text": [
            "No model was supplied, defaulted to distilbert-base-uncased-finetuned-sst-2-english (https://huggingface.co/distilbert-base-uncased-finetuned-sst-2-english)\n"
          ]
        },
        {
          "output_type": "execute_result",
          "data": {
            "text/plain": [
              "[{'label': 'POSITIVE', 'score': 0.9598048329353333}]"
            ]
          },
          "metadata": {},
          "execution_count": 21
        }
      ],
      "source": [
        "classifier = pipeline(\"sentiment-analysis\")\n",
        "classifier(\"I've been waiting for a HuggingFace course my whole life.\")"
      ]
    },
    {
      "cell_type": "markdown",
      "id": "0329dd18",
      "metadata": {
        "id": "0329dd18"
      },
      "source": [
        "We can even pass several sentences!"
      ]
    },
    {
      "cell_type": "code",
      "execution_count": 22,
      "id": "a849cbd1",
      "metadata": {
        "colab": {
          "base_uri": "https://localhost:8080/"
        },
        "id": "a849cbd1",
        "outputId": "bdd14ace-b6a5-4b1e-f1cb-36e30e55d323"
      },
      "outputs": [
        {
          "output_type": "execute_result",
          "data": {
            "text/plain": [
              "[{'label': 'POSITIVE', 'score': 0.9598048329353333},\n",
              " {'label': 'NEGATIVE', 'score': 0.9994558691978455}]"
            ]
          },
          "metadata": {},
          "execution_count": 22
        }
      ],
      "source": [
        "classifier(\n",
        "    [\"I've been waiting for a HuggingFace course my whole life.\", \"I hate this so much!\"]\n",
        ")"
      ]
    },
    {
      "cell_type": "code",
      "execution_count": 23,
      "id": "b1b9dadc",
      "metadata": {
        "colab": {
          "base_uri": "https://localhost:8080/"
        },
        "id": "b1b9dadc",
        "outputId": "ce9ef224-e1ca-4af8-ede9-93594801209b"
      },
      "outputs": [
        {
          "output_type": "execute_result",
          "data": {
            "text/plain": [
              "[{'label': 'POSITIVE', 'score': 0.9988355040550232}]"
            ]
          },
          "metadata": {},
          "execution_count": 23
        }
      ],
      "source": [
        "classifier(\"That movie was pretty bad but i really liked it.\")"
      ]
    },
    {
      "cell_type": "markdown",
      "id": "e45d03ff",
      "metadata": {
        "id": "e45d03ff"
      },
      "source": [
        "By default, this pipeline selects a particular pretrained model that has been fine-tuned for sentiment analysis in English. The model is downloaded and cached when you create the classifier object. If you rerun the command, the cached model will be used instead and there is no need to download the model again.\n",
        "\n",
        "There are three main steps involved when you pass some text to a pipeline:\n",
        "\n",
        "The text is preprocessed into a format the model can understand.\n",
        "The preprocessed inputs are passed to the model.\n",
        "The predictions of the model are post-processed, so you can make sense of them.\n",
        "Some of the currently available pipelines are:\n",
        "\n",
        "- feature-extraction (get the vector representation of a text)\n",
        "- fill-mask\n",
        "- ner (named entity recognition)\n",
        "- question-answering\n",
        "- sentiment-analysis\n",
        "- summarization\n",
        "- text-generation\n",
        "- translation\n",
        "- zero-shot-classification\n",
        "\n",
        "Let’s have a look at a few of these!"
      ]
    },
    {
      "cell_type": "markdown",
      "id": "9b8aa824",
      "metadata": {
        "id": "9b8aa824"
      },
      "source": [
        "### Zero-shot classification\n",
        "We’ll start by tackling a more challenging task where we need to classify texts that haven’t been labelled. <br>\n",
        "This is a common scenario in real-world projects because annotating text is usually time-consuming and requires domain expertise. <br>\n",
        "For this use case, the **zero-shot-classification** pipeline is very powerful: it allows you to specify which labels to use for the classification, so you don’t have to rely on the labels of the pretrained model. <br>\n",
        "You’ve already seen how the model can classify a sentence as positive or negative using those two labels — but it can also classify the text using any other set of labels you like."
      ]
    },
    {
      "cell_type": "code",
      "execution_count": 24,
      "id": "dad0f6a8",
      "metadata": {
        "colab": {
          "base_uri": "https://localhost:8080/"
        },
        "id": "dad0f6a8",
        "outputId": "8bc8b2da-f8bc-4ce0-8bb2-4bfa4970fd73"
      },
      "outputs": [
        {
          "output_type": "stream",
          "name": "stderr",
          "text": [
            "No model was supplied, defaulted to facebook/bart-large-mnli (https://huggingface.co/facebook/bart-large-mnli)\n"
          ]
        }
      ],
      "source": [
        "classifier2 = pipeline(\"zero-shot-classification\")"
      ]
    },
    {
      "cell_type": "code",
      "execution_count": 25,
      "id": "a54a5064",
      "metadata": {
        "colab": {
          "base_uri": "https://localhost:8080/"
        },
        "id": "a54a5064",
        "outputId": "e3730677-af63-4a47-a9fa-a2744122b037"
      },
      "outputs": [
        {
          "output_type": "execute_result",
          "data": {
            "text/plain": [
              "{'labels': ['movies', 'education', 'sports', 'politics'],\n",
              " 'scores': [0.5095946192741394,\n",
              "  0.4361685514450073,\n",
              "  0.03181035816669464,\n",
              "  0.022426392883062363],\n",
              " 'sequence': 'This is a course about the Transformers library'}"
            ]
          },
          "metadata": {},
          "execution_count": 25
        }
      ],
      "source": [
        "classifier2(\n",
        "    \"This is a course about the Transformers library\",\n",
        "    candidate_labels=[\"education\", \"politics\", \"movies\", \"sports\"],\n",
        ")"
      ]
    },
    {
      "cell_type": "markdown",
      "id": "829a5815",
      "metadata": {
        "id": "829a5815"
      },
      "source": [
        "This pipeline is called **zero-shot** because you don’t need to fine-tune the model on your data to use it. <br>\n",
        "It can directly return probability scores for any list of labels you want!"
      ]
    },
    {
      "cell_type": "markdown",
      "id": "877fe440",
      "metadata": {
        "id": "877fe440"
      },
      "source": [
        "### Text generation\n",
        "Now let’s see how to use a pipeline to generate some text. <br>\n",
        "The main idea here is that you provide a prompt and the model will auto-complete it by generating the remaining text. <br>\n",
        "This is similar to the predictive text feature that is found on many phones. <br> Text generation involves randomness, so it’s normal if you don’t get the same results as shown below."
      ]
    },
    {
      "cell_type": "code",
      "execution_count": 26,
      "id": "eafc8ac1",
      "metadata": {
        "colab": {
          "base_uri": "https://localhost:8080/"
        },
        "id": "eafc8ac1",
        "outputId": "b481b7c0-7f3e-47f0-952c-e7cac9075025"
      },
      "outputs": [
        {
          "output_type": "stream",
          "name": "stderr",
          "text": [
            "No model was supplied, defaulted to gpt2 (https://huggingface.co/gpt2)\n"
          ]
        }
      ],
      "source": [
        "generator = pipeline(\"text-generation\")"
      ]
    },
    {
      "cell_type": "code",
      "execution_count": 27,
      "id": "33a9b2ff",
      "metadata": {
        "colab": {
          "base_uri": "https://localhost:8080/"
        },
        "id": "33a9b2ff",
        "outputId": "2323a002-c226-49ba-8335-60292256e698"
      },
      "outputs": [
        {
          "output_type": "stream",
          "name": "stderr",
          "text": [
            "Setting `pad_token_id` to `eos_token_id`:50256 for open-end generation.\n"
          ]
        },
        {
          "output_type": "execute_result",
          "data": {
            "text/plain": [
              "[{'generated_text': 'In this course, we will teach you how to design, analyze and design for web, mobile and web platforms. We will also see you in an interaction program.\\n\\nOur goal is to be a full time professional web developer who will be building'}]"
            ]
          },
          "metadata": {},
          "execution_count": 27
        }
      ],
      "source": [
        "generator(\"In this course, we will teach you how to\")"
      ]
    },
    {
      "cell_type": "markdown",
      "id": "54a95b2f",
      "metadata": {
        "id": "54a95b2f"
      },
      "source": [
        "You can control how many different sequences are generated with the argument **num_return_sequences** and the total length of the output text with the argument **max_length**."
      ]
    },
    {
      "cell_type": "markdown",
      "id": "85bdaa87",
      "metadata": {
        "id": "85bdaa87"
      },
      "source": [
        "### Using any model from the Hub in a pipeline\n",
        "The previous examples used the default model for the task at hand, but you can also choose a particular model from the Hub to use in a pipeline for a specific task — say, text generation. <br>\n",
        "Go to the [Model Hub](https://huggingface.co/models) and click on the corresponding tag on the left to display only the supported models for that task. <br>\n",
        "You should get to a page like [this one](https://huggingface.co/models?pipeline_tag=text-generation).\n",
        "\n",
        "Let’s try the [distilgpt2](https://huggingface.co/distilgpt2) model! Here’s how to load it in the same pipeline as before:"
      ]
    },
    {
      "cell_type": "code",
      "execution_count": 28,
      "id": "00a0fa0e",
      "metadata": {
        "colab": {
          "base_uri": "https://localhost:8080/"
        },
        "id": "00a0fa0e",
        "outputId": "79c3d230-4e6e-4f8f-f3aa-afbe218e6d63"
      },
      "outputs": [
        {
          "output_type": "stream",
          "name": "stderr",
          "text": [
            "Setting `pad_token_id` to `eos_token_id`:50256 for open-end generation.\n"
          ]
        },
        {
          "output_type": "execute_result",
          "data": {
            "text/plain": [
              "[{'generated_text': 'In this course, we will teach you how to make light and light sense in your own work.\\n\\n\\nThis course will teach you how to'},\n",
              " {'generated_text': 'In this course, we will teach you how to start a video game business.\\n\\n\\n\\nStep 1: Getting started\\nWe will also test'}]"
            ]
          },
          "metadata": {},
          "execution_count": 28
        }
      ],
      "source": [
        "generator2 = pipeline(\"text-generation\", model=\"distilgpt2\")\n",
        "generator2(\"In this course, we will teach you how to\",\n",
        "           max_length=30, num_return_sequences=2,)"
      ]
    },
    {
      "cell_type": "markdown",
      "id": "9a61d8b2",
      "metadata": {
        "id": "9a61d8b2"
      },
      "source": [
        "### Mask filling\n",
        "The next pipeline you’ll try is **fill-mask**. <br>\n",
        "The idea of this task is to fill in the blanks in a given text:"
      ]
    },
    {
      "cell_type": "code",
      "execution_count": 29,
      "id": "acb1a425",
      "metadata": {
        "colab": {
          "base_uri": "https://localhost:8080/"
        },
        "id": "acb1a425",
        "outputId": "9af6864a-fc6b-449b-a35b-b8d2052d845e"
      },
      "outputs": [
        {
          "output_type": "stream",
          "name": "stderr",
          "text": [
            "No model was supplied, defaulted to distilroberta-base (https://huggingface.co/distilroberta-base)\n"
          ]
        },
        {
          "output_type": "execute_result",
          "data": {
            "text/plain": [
              "[{'score': 0.1963154524564743,\n",
              "  'sequence': 'This course will teach you all about mathematical models',\n",
              "  'token': 30412,\n",
              "  'token_str': ' mathematical'},\n",
              " {'score': 0.04449218139052391,\n",
              "  'sequence': 'This course will teach you all about building models',\n",
              "  'token': 745,\n",
              "  'token_str': ' building'}]"
            ]
          },
          "metadata": {},
          "execution_count": 29
        }
      ],
      "source": [
        "unmasker = pipeline(\"fill-mask\")\n",
        "unmasker(\"This course will teach you all about <mask> models\", top_k=2)"
      ]
    },
    {
      "cell_type": "markdown",
      "id": "92a7670f",
      "metadata": {
        "id": "92a7670f"
      },
      "source": [
        "The **top_k** argument controls how many possibilities you want to be displayed. <br> Note that here the model fills in the special **<\"mask\">** word, which is often referred to as a mask token. <br> \n",
        "Other mask-filling models might have different mask tokens, so it’s always good to verify the proper mask word when exploring other models. <br>\n",
        "One way to check it is by looking at the mask word used in the widget."
      ]
    },
    {
      "cell_type": "markdown",
      "id": "309681e8",
      "metadata": {
        "id": "309681e8"
      },
      "source": [
        "### Named entity recognition\n",
        "**Named entity recognition (NER)** is a task where the model has to find which parts of the input text correspond to entities such as persons, locations, or organizations. <br>\n",
        "Let’s look at an example:"
      ]
    },
    {
      "cell_type": "code",
      "execution_count": 30,
      "id": "8a820038",
      "metadata": {
        "colab": {
          "base_uri": "https://localhost:8080/"
        },
        "id": "8a820038",
        "outputId": "d65cab24-0664-4fd3-ff93-ecc37625b727"
      },
      "outputs": [
        {
          "output_type": "stream",
          "name": "stderr",
          "text": [
            "No model was supplied, defaulted to dbmdz/bert-large-cased-finetuned-conll03-english (https://huggingface.co/dbmdz/bert-large-cased-finetuned-conll03-english)\n",
            "/usr/local/lib/python3.7/dist-packages/transformers/pipelines/token_classification.py:136: UserWarning: `grouped_entities` is deprecated and will be removed in version v5.0.0, defaulted to `aggregation_strategy=\"AggregationStrategy.SIMPLE\"` instead.\n",
            "  f'`grouped_entities` is deprecated and will be removed in version v5.0.0, defaulted to `aggregation_strategy=\"{aggregation_strategy}\"` instead.'\n"
          ]
        },
        {
          "output_type": "execute_result",
          "data": {
            "text/plain": [
              "[{'end': 18,\n",
              "  'entity_group': 'PER',\n",
              "  'score': 0.9981694,\n",
              "  'start': 11,\n",
              "  'word': 'Sylvain'},\n",
              " {'end': 45,\n",
              "  'entity_group': 'ORG',\n",
              "  'score': 0.9796019,\n",
              "  'start': 33,\n",
              "  'word': 'Hugging Face'},\n",
              " {'end': 57,\n",
              "  'entity_group': 'LOC',\n",
              "  'score': 0.9932106,\n",
              "  'start': 49,\n",
              "  'word': 'Brooklyn'}]"
            ]
          },
          "metadata": {},
          "execution_count": 30
        }
      ],
      "source": [
        "ner = pipeline(\"ner\", grouped_entities=True)\n",
        "ner(\"My name is Sylvain and I work at Hugging Face in Brooklyn.\")"
      ]
    },
    {
      "cell_type": "markdown",
      "id": "641fe0d7",
      "metadata": {
        "id": "641fe0d7"
      },
      "source": [
        "Here the model correctly identified that Sylvain is a person (PER), Hugging Face an organization (ORG), and Brooklyn a location (LOC).\n",
        "\n",
        "We pass the option **grouped_entities=True** in the pipeline creation function to tell the pipeline to regroup together the parts of the sentence that correspond to the same entity: here the model correctly grouped “Hugging” and “Face” as a single organization, even though the name consists of multiple words. <br>\n",
        "In fact, as we will see in the next chapter, the preprocessing even splits some words into smaller parts. <br>\n",
        "For instance, Sylvain is split into four pieces: S, ##yl, ##va, and ##in. \n",
        "In the post-processing step, the pipeline successfully regrouped those pieces."
      ]
    },
    {
      "cell_type": "markdown",
      "id": "c6c0cbc3",
      "metadata": {
        "id": "c6c0cbc3"
      },
      "source": [
        "### Question answering\n",
        "The **question-answering** pipeline answers questions using information from a given context:"
      ]
    },
    {
      "cell_type": "code",
      "execution_count": 31,
      "id": "5d1136e2",
      "metadata": {
        "colab": {
          "base_uri": "https://localhost:8080/"
        },
        "id": "5d1136e2",
        "outputId": "d93d8d6c-d7ec-4240-fff3-119ba967e001"
      },
      "outputs": [
        {
          "output_type": "stream",
          "name": "stderr",
          "text": [
            "No model was supplied, defaulted to distilbert-base-cased-distilled-squad (https://huggingface.co/distilbert-base-cased-distilled-squad)\n"
          ]
        }
      ],
      "source": [
        "question_answerer = pipeline(\"question-answering\")"
      ]
    },
    {
      "cell_type": "code",
      "execution_count": 32,
      "id": "087406bd",
      "metadata": {
        "colab": {
          "base_uri": "https://localhost:8080/"
        },
        "id": "087406bd",
        "outputId": "ff8c7553-dae3-4b2b-98a0-91ca541cd0fc"
      },
      "outputs": [
        {
          "output_type": "execute_result",
          "data": {
            "text/plain": [
              "{'answer': 'Turkey', 'end': 39, 'score': 0.980381429195404, 'start': 33}"
            ]
          },
          "metadata": {},
          "execution_count": 32
        }
      ],
      "source": [
        "question_answerer(question=\"Where do I live?\",\n",
        "                  context=\"My name is Batuhan and I live in Turkey.\")"
      ]
    },
    {
      "cell_type": "markdown",
      "id": "832fbf7b",
      "metadata": {
        "id": "832fbf7b"
      },
      "source": [
        "Note that this pipeline works by extracting information from the provided context; it does not generate the answer."
      ]
    },
    {
      "cell_type": "markdown",
      "id": "44c8e056",
      "metadata": {
        "id": "44c8e056"
      },
      "source": [
        "### Summarization\n",
        "**Summarization** is the task of reducing a text into a shorter text while keeping all (or most) of the important aspects referenced in the text. <br>\n",
        "Here’s an example:"
      ]
    },
    {
      "cell_type": "code",
      "execution_count": 33,
      "id": "cbba9fb6",
      "metadata": {
        "colab": {
          "base_uri": "https://localhost:8080/"
        },
        "id": "cbba9fb6",
        "outputId": "772d1c3d-fac0-4cf6-8c29-37497ac19a48"
      },
      "outputs": [
        {
          "output_type": "stream",
          "name": "stderr",
          "text": [
            "No model was supplied, defaulted to sshleifer/distilbart-cnn-12-6 (https://huggingface.co/sshleifer/distilbart-cnn-12-6)\n"
          ]
        }
      ],
      "source": [
        "summarizer = pipeline(\"summarization\")"
      ]
    },
    {
      "cell_type": "code",
      "execution_count": 34,
      "id": "015d2b3f",
      "metadata": {
        "colab": {
          "base_uri": "https://localhost:8080/"
        },
        "id": "015d2b3f",
        "outputId": "6db287f8-2469-48f7-9681-88308a5329de"
      },
      "outputs": [
        {
          "output_type": "execute_result",
          "data": {
            "text/plain": [
              "[{'summary_text': ' America has changed dramatically during recent years . The number of engineering graduates in the U.S. has declined in traditional engineering disciplines such as mechanical, civil,    electrical, chemical, and aeronautical engineering . Rapidly developing economies such as China and India continue to encourage and advance the teaching of engineering .'}]"
            ]
          },
          "metadata": {},
          "execution_count": 34
        }
      ],
      "source": [
        "summarizer(\n",
        "    \"\"\"\n",
        "    America has changed dramatically during recent years. Not only has the number of \n",
        "    graduates in traditional engineering disciplines such as mechanical, civil, \n",
        "    electrical, chemical, and aeronautical engineering declined, but in most of \n",
        "    the premier American universities engineering curricula now concentrate on \n",
        "    and encourage largely the study of engineering science. As a result, there \n",
        "    are declining offerings in engineering subjects dealing with infrastructure, \n",
        "    the environment, and related issues, and greater concentration on high \n",
        "    technology subjects, largely supporting increasingly complex scientific \n",
        "    developments. While the latter is important, it should not be at the expense \n",
        "    of more traditional engineering.\n",
        "\n",
        "    Rapidly developing economies such as China and India, as well as other \n",
        "    industrial countries in Europe and Asia, continue to encourage and advance \n",
        "    the teaching of engineering. Both China and India, respectively, graduate \n",
        "    six and eight times as many traditional engineers as does the United States. \n",
        "    Other industrial countries at minimum maintain their output, while America \n",
        "    suffers an increasingly serious decline in the number of engineering graduates \n",
        "    and a lack of well-educated engineers.\n",
        "\"\"\"\n",
        ")"
      ]
    },
    {
      "cell_type": "code",
      "execution_count": 35,
      "id": "3794d56a",
      "metadata": {
        "colab": {
          "base_uri": "https://localhost:8080/"
        },
        "id": "3794d56a",
        "outputId": "7aa1e77f-ab99-4e58-e075-fa26e87f085c"
      },
      "outputs": [
        {
          "output_type": "stream",
          "name": "stderr",
          "text": [
            "Your max_length is set to 142, but you input_length is only 102. You might consider decreasing max_length manually, e.g. summarizer('...', max_length=51)\n"
          ]
        },
        {
          "output_type": "execute_result",
          "data": {
            "text/plain": [
              "[{'summary_text': ' Tony Montana (Al Pacino) stakes a claim on the drug trade in Miami . He becomes the biggest drug lord in the state, controlling nearly all the cocaine that comes through Miami . But increased pressure from the police, wars with Colombian drug cartels and his own drug-fueled paranoia fuel the flames of his eventual downfall .'}]"
            ]
          },
          "metadata": {},
          "execution_count": 35
        }
      ],
      "source": [
        "summarizer(\n",
        "\"\"\"\n",
        "After getting a green card in exchange for assassinating a Cuban government official, Tony Montana (Al Pacino) stakes a claim on the drug trade in Miami. \n",
        "Viciously murdering anyone who stands in his way, Tony eventually becomes the biggest drug lord in the state, controlling nearly all the cocaine that comes through Miami. \n",
        "But increased pressure from the police, wars with Colombian drug cartels and his own drug-fueled paranoia serve to fuel the flames of his eventual downfall.\"\"\")"
      ]
    },
    {
      "cell_type": "markdown",
      "id": "d791f404",
      "metadata": {
        "id": "d791f404"
      },
      "source": [
        "Like with text generation, you can specify a **max_length** or a **min_length** for the result."
      ]
    },
    {
      "cell_type": "markdown",
      "id": "f9c38912",
      "metadata": {
        "id": "f9c38912"
      },
      "source": [
        "The pipelines shown so far are mostly for demonstrative purposes. <br>\n",
        "They were programmed for specific tasks and cannot perform variations of them. <br>In the next chapter, you’ll learn what’s inside a **pipeline()** function and how to customize its behavior."
      ]
    }
  ],
  "metadata": {
    "kernelspec": {
      "display_name": "Python 3 (ipykernel)",
      "language": "python",
      "name": "python3"
    },
    "language_info": {
      "codemirror_mode": {
        "name": "ipython",
        "version": 3
      },
      "file_extension": ".py",
      "mimetype": "text/x-python",
      "name": "python",
      "nbconvert_exporter": "python",
      "pygments_lexer": "ipython3",
      "version": "3.9.7"
    },
    "colab": {
      "name": "01_Transformers_pipeline_function.ipynb",
      "provenance": [],
      "include_colab_link": true
    },
    "accelerator": "GPU"
  },
  "nbformat": 4,
  "nbformat_minor": 5
}